{
 "cells": [
  {
   "cell_type": "code",
   "execution_count": 1,
   "metadata": {},
   "outputs": [],
   "source": [
    "from dotenv import load_dotenv\n",
    "from langchain.llms import GooglePalm\n",
    "import os\n",
    "load_dotenv()\n",
    "apikey =os.getenv(\"GOOGLE_API_KEY\")"
   ]
  },
  {
   "cell_type": "code",
   "execution_count": null,
   "metadata": {},
   "outputs": [],
   "source": []
  },
  {
   "cell_type": "code",
   "execution_count": 2,
   "metadata": {},
   "outputs": [],
   "source": [
    "llm =GooglePalm(google_api_key=apikey,temperature=0.5)"
   ]
  },
  {
   "cell_type": "code",
   "execution_count": 3,
   "metadata": {},
   "outputs": [],
   "source": [
    "from langchain.prompts import PromptTemplate\n",
    "from langchain.chains import LLMChain"
   ]
  },
  {
   "cell_type": "code",
   "execution_count": 4,
   "metadata": {},
   "outputs": [
    {
     "data": {
      "text/plain": [
       "'I want to open a restaurant for Indian food. Suggest only one fency name for this.'"
      ]
     },
     "execution_count": 4,
     "metadata": {},
     "output_type": "execute_result"
    }
   ],
   "source": [
    "promt_template_name =PromptTemplate(\n",
    "    input_variables=[\"cuisine\"],\n",
    "    template=\"I want to open a restaurant for {cuisine} food. Suggest only one fency name for this.\"\n",
    ")\n",
    "promt_template_name.format(cuisine=\"Indian\")"
   ]
  },
  {
   "cell_type": "code",
   "execution_count": 5,
   "metadata": {},
   "outputs": [
    {
     "name": "stdout",
     "output_type": "stream",
     "text": [
      "Tikka Masala Palace\n"
     ]
    }
   ],
   "source": [
    "name_chain =LLMChain(llm=llm,prompt=promt_template_name)\n",
    "print(name_chain.run(\"Indian\"))"
   ]
  },
  {
   "cell_type": "code",
   "execution_count": 16,
   "metadata": {},
   "outputs": [],
   "source": [
    "promt_template_item =PromptTemplate( \n",
    "    input_variables=[\"restaurant_name\"],\n",
    "    template=\"\"\"Suggest some menu items for {restaurant_name}. Return it as comma separated string\"\"\"\n",
    "    \n",
    "    )\n",
    "food_item_chain =LLMChain(llm=llm,prompt=promt_template_item)"
   ]
  },
  {
   "cell_type": "code",
   "execution_count": 11,
   "metadata": {},
   "outputs": [],
   "source": [
    "from langchain.chains import SimpleSequentialChain"
   ]
  },
  {
   "cell_type": "code",
   "execution_count": 18,
   "metadata": {},
   "outputs": [
    {
     "name": "stdout",
     "output_type": "stream",
     "text": [
      "Tandoori Chicken, Chicken Tikka Masala, Butter Chicken, Lamb Rogan Josh, Vegetarian Biryani\n"
     ]
    }
   ],
   "source": [
    "seq_chain = SimpleSequentialChain(chains=[name_chain,food_item_chain])\n",
    "response =seq_chain.run(\"Indian\")\n",
    "print(response)"
   ]
  },
  {
   "cell_type": "code",
   "execution_count": 55,
   "metadata": {},
   "outputs": [],
   "source": [
    "llm =GooglePalm(google_api_key=apikey,temperature=0.7)\n",
    "\n",
    "promt_template_name =PromptTemplate(\n",
    "    input_variables=[\"cuisine\"],\n",
    "    template=\"I want to open a restaurant for {cuisine} food. Suggest one fency name for this. Limit to one.\"\n",
    ")\n",
    "name_chain =LLMChain(llm=llm,prompt=promt_template_name,output_key=\"restaurant_name\")\n",
    "\n",
    "llm =GooglePalm(google_api_key=apikey,temperature=0.7)\n",
    "promt_template_item =PromptTemplate( \n",
    "    input_variables=[\"restaurant_name\"],\n",
    "    template=\"\"\"Suggest ten menu items for {restaurant_name} and give as a comma separated List \"\"\"\n",
    "    \n",
    "    )\n",
    "food_item_chain =LLMChain(llm=llm,prompt=promt_template_item,output_key=\"menu_items\")\n"
   ]
  },
  {
   "cell_type": "code",
   "execution_count": 56,
   "metadata": {},
   "outputs": [],
   "source": [
    "from langchain.chains import SequentialChain"
   ]
  },
  {
   "cell_type": "code",
   "execution_count": 61,
   "metadata": {},
   "outputs": [],
   "source": [
    "chain = SequentialChain(\n",
    "    chains=[name_chain,food_item_chain],\n",
    "    input_variables = ['cuisine'],\n",
    "    output_variables = ['restaurant_name', \"menu_items\"]\n",
    "    )\n"
   ]
  },
  {
   "cell_type": "code",
   "execution_count": 62,
   "metadata": {},
   "outputs": [
    {
     "data": {
      "text/plain": [
       "{'cuisine': 'Indian',\n",
       " 'restaurant_name': 'Tikka Masala Palace',\n",
       " 'menu_items': '1. Tikka Masala, 2. Chicken Biryani, 3. Lamb Rogan Josh, 4. Butter Chicken, 5. Vegetarian Biryani, 6. Paneer Tikka Masala, 7. Naan, 8. Garlic Naan, 9. Roti, 10. Rice'}"
      ]
     },
     "execution_count": 62,
     "metadata": {},
     "output_type": "execute_result"
    }
   ],
   "source": [
    "chain({\"cuisine\":\"Indian\"})"
   ]
  },
  {
   "cell_type": "code",
   "execution_count": null,
   "metadata": {},
   "outputs": [],
   "source": []
  }
 ],
 "metadata": {
  "kernelspec": {
   "display_name": "llmproj",
   "language": "python",
   "name": "python3"
  },
  "language_info": {
   "codemirror_mode": {
    "name": "ipython",
    "version": 3
   },
   "file_extension": ".py",
   "mimetype": "text/x-python",
   "name": "python",
   "nbconvert_exporter": "python",
   "pygments_lexer": "ipython3",
   "version": "3.8.18"
  }
 },
 "nbformat": 4,
 "nbformat_minor": 2
}
